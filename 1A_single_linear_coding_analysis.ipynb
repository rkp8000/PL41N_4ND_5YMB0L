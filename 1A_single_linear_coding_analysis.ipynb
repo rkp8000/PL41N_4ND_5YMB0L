{
 "cells": [
  {
   "cell_type": "markdown",
   "id": "complete-convention",
   "metadata": {},
   "source": [
    "How is the serial ordering of inputs encoded in a linear dynamical system state?"
   ]
  },
  {
   "cell_type": "code",
   "execution_count": 1,
   "id": "republican-commodity",
   "metadata": {},
   "outputs": [],
   "source": [
    "%matplotlib inline\n",
    "from itertools import product as cprod\n",
    "import matplotlib.pyplot as plt\n",
    "import numpy as np\n",
    "from scipy import stats\n",
    "import sys\n",
    "\n",
    "from disp import set_font_size\n",
    "\n",
    "DT = .005\n",
    "\n",
    "R_BIN = np.linspace(0, 1, 17)\n",
    "R_BIN2 = np.linspace(0, 1, 33)"
   ]
  },
  {
   "cell_type": "markdown",
   "id": "intelligent-drain",
   "metadata": {},
   "source": [
    "We start with a binary input stream containing $n$ segments of length $\\Delta T$ with $n \\Delta T = T$. There are $2^n$ possible input \"strings\", as each time window can be either $\\{0, 1\\}$."
   ]
  },
  {
   "cell_type": "code",
   "execution_count": 2,
   "id": "minor-council",
   "metadata": {},
   "outputs": [
    {
     "data": {
      "image/png": "[encoded data removed]",
      "text/plain": [
       "<Figure size 252x162 with 1 Axes>"
      ]
     },
     "metadata": {
      "needs_background": "light"
     },
     "output_type": "display_data"
    }
   ],
   "source": [
    "def s2cur(s, step):\n",
    "    n = len(s)\n",
    "    \n",
    "    t = np.arange(0, n*step, DT)\n",
    "    cur = np.zeros(len(t))\n",
    "    \n",
    "    istep = int(round(step/DT))\n",
    "    \n",
    "    for istart in s.nonzero()[0]*istep:\n",
    "        cur[istart:istart+istep] = 1\n",
    "        \n",
    "    return cur\n",
    "\n",
    "fig, ax = plt.subplots(1, 1, figsize=(3.5, 2.25), tight_layout=True)\n",
    "\n",
    "step = 1/8\n",
    "ss_xpl = np.array([(0, 1, 0, 0, 1, 1, 0, 1), (1, 1, 0, 1, 0, 0, 1, 1)])\n",
    "\n",
    "for cs, s in enumerate(ss_xpl):\n",
    "    cur = s2cur(s, step=step)\n",
    "    t = np.arange(len(cur)) * DT\n",
    "    \n",
    "    ax.plot(t, cur+2*cs, lw=2, c='k')\n",
    "    for ce, e in enumerate(s):\n",
    "        ax.text((ce + .5)*step, 2*cs + .5, str(e), ha='center', va='center')\n",
    "        \n",
    "ax.set_xlim(0, t[-1]+DT)\n",
    "ax.set_ylim(-.25, 3.25)\n",
    "ax.set_yticks([0, 1, 2, 3])\n",
    "ax.set_yticklabels([0, 1, 0, 1])\n",
    "ax.set_xlabel('Time')\n",
    "ax.set_ylabel('I(t)')\n",
    "\n",
    "set_font_size(ax, 10)\n",
    "fig.savefig('plots/s2cur_xpl.pdf')"
   ]
  },
  {
   "cell_type": "code",
   "execution_count": 4,
   "id": "polished-generic",
   "metadata": {},
   "outputs": [
    {
     "data": {
      "image/png": "[encoded data removed]",
      "text/plain": [
       "<Figure size 1008x288 with 1 Axes>"
      ]
     },
     "metadata": {
      "needs_background": "light"
     },
     "output_type": "display_data"
    },
    {
     "data": {
      "image/png": "[encoded data removed]",
      "text/plain": [
       "<Figure size 252x216 with 4 Axes>"
      ]
     },
     "metadata": {
      "needs_background": "light"
     },
     "output_type": "display_data"
    }
   ],
   "source": [
    "n = 16\n",
    "ss = np.array(list(cprod((0, 1), repeat=n)))[:, ::-1]\n",
    "curs = np.array([s2cur(s, step) for s in ss])\n",
    "\n",
    "fig, ax = plt.subplots(1, 1, figsize=(14, 4), tight_layout=True)\n",
    "ax.matshow(ss.T, origin='lower', extent=[-1, len(ss), 0, 1])\n",
    "ax.set_aspect('auto')\n",
    "ax.set_xlabel('Input ID')\n",
    "ax.set_ylabel('Time (s)')\n",
    "set_font_size(ax, 16)\n",
    "\n",
    "fig, axs = plt.subplots(2, 2, figsize=(3.5, 3), sharex=True, tight_layout=True)\n",
    "\n",
    "ns = [8, 16]\n",
    "taus_xpl = [.01, 10]\n",
    "\n",
    "for ax_row, n in zip(axs, ns):\n",
    "    \n",
    "    ss = np.array(list(cprod((0, 1), repeat=n)))[:, ::-1]\n",
    "    curs = np.array([s2cur(s, step=1/n) for s in ss])\n",
    "    t = np.arange(len(curs[0])) * DT\n",
    "\n",
    "    rs = []\n",
    "    for tau in taus_xpl:\n",
    "        h = np.exp(-t/tau)\n",
    "        r = np.array([h[::-1]@cur for cur in curs])\n",
    "        r /= np.max(r)\n",
    "        rs.append(r)\n",
    "\n",
    "    for ax, tau, r in zip(ax_row, taus_xpl, rs):\n",
    "        ax.hist(r, bins=R_BIN, density=True)\n",
    "        ax.set_xlim(-.025, 1.025)\n",
    "        ax.set_xlabel(r'$r(t)$')\n",
    "        ax.set_title(fr'$\\tau = $ {tau}, $\\Delta T = 1/${n}')\n",
    "        \n",
    "for ax in axs[:, 0]:\n",
    "    ax.set_ylabel(r'$P(r(t))$')\n",
    "\n",
    "set_font_size(axs, 10)\n",
    "fig.savefig('plots/p_r_tau_limits.pdf')"
   ]
  },
  {
   "cell_type": "code",
   "execution_count": 5,
   "id": "front-thread",
   "metadata": {},
   "outputs": [
    {
     "data": {
      "image/png": "[encoded data removed]",
      "text/plain": [
       "<Figure size 252x216 with 6 Axes>"
      ]
     },
     "metadata": {
      "needs_background": "light"
     },
     "output_type": "display_data"
    }
   ],
   "source": [
    "n = 16\n",
    "ss = np.array(list(cprod((0, 1), repeat=n)))[:, ::-1]\n",
    "curs = np.array([s2cur(s, step=1/n) for s in ss])\n",
    "t = np.arange(len(curs[0])) * DT\n",
    "\n",
    "taus_xpl = [.01, .05, .09, .2, 1, 10]\n",
    "fig, axs = plt.subplots(3, 2, figsize=(3.5, 3), sharex=True, tight_layout=True)\n",
    "\n",
    "for ax, tau in zip(axs.flatten(), taus_xpl):\n",
    "    h = np.exp(-t/tau)\n",
    "    r = np.array([h[::-1]@cur for cur in curs])\n",
    "    r /= np.max(r)\n",
    "    \n",
    "    ax.hist(r, R_BIN, density=True)\n",
    "    ax.set_xlim(-.025, 1.025)\n",
    "    ax.set_title(fr'$\\tau = ${tau}')\n",
    "\n",
    "for ax in axs[-1, :]:\n",
    "    ax.set_xlabel(r'$r(t)$')\n",
    "    \n",
    "for ax in axs[:, 0]:\n",
    "    ax.set_ylabel(r'$P(r(t))$')\n",
    "\n",
    "set_font_size(axs, 10)\n",
    "fig.savefig('plots/p_r_tau_sweep.pdf')"
   ]
  },
  {
   "cell_type": "code",
   "execution_count": 6,
   "id": "attractive-tactics",
   "metadata": {},
   "outputs": [],
   "source": [
    "ns = np.array([8, 12, 16, 20])\n",
    "taus = np.logspace(-2, 1, 61)\n",
    "\n",
    "ents_all = []\n",
    "\n",
    "for n in ns:\n",
    "    ss = np.array(list(cprod((0, 1), repeat=n)))[:, ::-1]\n",
    "    curs = np.array([s2cur(s, step=1/n) for s in ss])\n",
    "    t = np.arange(len(curs[0])) * DT\n",
    "    \n",
    "    ents = []\n",
    "    for tau in taus:\n",
    "        h = np.exp(-t/tau)\n",
    "        r = np.array([h[::-1]@cur for cur in curs])\n",
    "        r /= np.max(r)\n",
    "        \n",
    "        cts, _ = np.histogram(r, R_BIN, density=True)\n",
    "        p = cts/np.sum(cts)\n",
    "        \n",
    "        ents.append(stats.entropy(p, base=2))\n",
    "        \n",
    "    ents_all.append(np.array(ents))"
   ]
  },
  {
   "cell_type": "code",
   "execution_count": 6,
   "id": "computational-banner",
   "metadata": {},
   "outputs": [
    {
     "data": {
      "image/png": "[encoded data removed]",
      "text/plain": [
       "<Figure size 252x126 with 2 Axes>"
      ]
     },
     "metadata": {
      "needs_background": "light"
     },
     "output_type": "display_data"
    }
   ],
   "source": [
    "fig, axs = plt.subplots(1, 2, figsize=(3.5, 1.75), tight_layout=True)\n",
    "for n, ents in zip(ns, ents_all):\n",
    "    axs[0].semilogx(taus, ents, lw=2)\n",
    "    \n",
    "axs[0].axhline(np.log2(len(R_BIN)-1), c='gray', ls='--')\n",
    "    \n",
    "axs[0].set_xlabel(r'$\\tau$')\n",
    "axs[0].set_ylabel('Entropy (bits)')\n",
    "\n",
    "tau_stars = np.array([taus[np.argmax(ents)] for ents in ents_all])\n",
    "axs[1].plot(1/ns, tau_stars, c='k', lw=2)\n",
    "axs[1].plot(1/ns, 1/ns/np.log(2), c='g', lw=1, ls='--')\n",
    "\n",
    "axs[1].set_xlabel(r'$\\Delta T$')\n",
    "axs[1].set_ylabel(r'$\\tau^*$')\n",
    "\n",
    "set_font_size(axs, 10)\n",
    "\n",
    "fig.savefig('plots/ent_vs_tau.pdf')"
   ]
  },
  {
   "cell_type": "code",
   "execution_count": 7,
   "id": "pacific-israeli",
   "metadata": {},
   "outputs": [
    {
     "data": {
      "image/png": "[encoded data removed]",
      "text/plain": [
       "<Figure size 252x144 with 1 Axes>"
      ]
     },
     "metadata": {
      "needs_background": "light"
     },
     "output_type": "display_data"
    }
   ],
   "source": [
    "n = 16\n",
    "ss = np.array(list(cprod((0, 1), repeat=n)))[:, ::-1]\n",
    "curs = np.array([s2cur(s, step=1/n) for s in ss])\n",
    "t = np.arange(len(curs[0])) * DT\n",
    "    \n",
    "taus_xpl = [.02, .087, 1]\n",
    "\n",
    "fig, ax = plt.subplots(1, 1, figsize=(3.5, 2), tight_layout=True)\n",
    "idxs_ranked = []\n",
    "\n",
    "for tau in taus_xpl:\n",
    "    h = np.exp(-t/tau)\n",
    "    r = np.array([h[::-1]@cur for cur in curs])\n",
    "    r /= np.max(r)\n",
    "    \n",
    "    idxs_ranked.append(np.argsort(r))\n",
    "    ax.plot(np.arange(len(r))/len(r), sorted(r), lw=2)\n",
    "\n",
    "ax.set_xlim(0, 1)\n",
    "ax.set_xlabel(r'Rank of $s$')\n",
    "ax.set_ylabel(r'$r(t)$')\n",
    "ax.legend([rf'$\\tau = ${tau:.3f}' for tau in taus_xpl])\n",
    "\n",
    "set_font_size(ax, 10, legend_font_size=8)\n",
    "fig.savefig('plots/r_vs_rank_s.pdf')"
   ]
  },
  {
   "cell_type": "code",
   "execution_count": 8,
   "id": "forward-record",
   "metadata": {},
   "outputs": [
    {
     "data": {
      "image/png": "[encoded data removed]",
      "text/plain": [
       "<Figure size 252x360 with 4 Axes>"
      ]
     },
     "metadata": {
      "needs_background": "light"
     },
     "output_type": "display_data"
    }
   ],
   "source": [
    "fig, axs = plt.subplots(len(taus_xpl)+1, 1, figsize=(3.5, len(taus_xpl)+2), sharex=True, sharey=True, tight_layout=True)\n",
    "\n",
    "for ax, tau, idx_ranked in zip(axs, taus_xpl, idxs_ranked):\n",
    "    ax.matshow(ss[idx_ranked].T, origin='lower', extent=[0, 1, 0, 1])\n",
    "    ax.set_aspect('auto')\n",
    "    ax.set_title(rf'$\\tau = ${tau:.3f}')\n",
    "\n",
    "axs[-1].matshow(ss.T, origin='lower', extent=[0, 1, 0, 1])\n",
    "axs[-1].set_aspect('auto')\n",
    "axs[-1].set_xlabel('Rank of s')\n",
    "axs[-1].set_title('Standard binary ordering')\n",
    "\n",
    "for ax in axs:\n",
    "    ax.set_xlim(0, 1)\n",
    "    ax.set_ylim(0, 1)\n",
    "    ax.set_xticks([])\n",
    "    ax.set_ylabel('Time')\n",
    "set_font_size(axs, 10)\n",
    "\n",
    "fig.savefig('plots/sorted_s_vs_tau.pdf')"
   ]
  },
  {
   "cell_type": "markdown",
   "id": "serious-tribute",
   "metadata": {},
   "source": [
    "Repeat response distribution analysis for more time bins of same length (i.e. longer total duration)"
   ]
  },
  {
   "cell_type": "code",
   "execution_count": 24,
   "id": "enclosed-native",
   "metadata": {},
   "outputs": [
    {
     "data": {
      "image/png": "[encoded data removed]",
      "text/plain": [
       "<Figure size 252x432 with 12 Axes>"
      ]
     },
     "metadata": {
      "needs_background": "light"
     },
     "output_type": "display_data"
    }
   ],
   "source": [
    "n_in = 200000\n",
    "\n",
    "ns = [128, 256]\n",
    "taus_xpl = [.01, .05, .09, .2, 1, 2]\n",
    "step = 1/16\n",
    "\n",
    "fig, axs = plt.subplots(6, 2, figsize=(3.5, 6), sharex=True, tight_layout=True)\n",
    "\n",
    "for cn, n in enumerate(ns):\n",
    "    ss = np.concatenate([np.random.rand(n_in, n) < .5, np.ones((1, n), bool)])\n",
    "    curs = np.array([s2cur(s, step=step) for s in ss])\n",
    "    t = np.arange(len(curs[0])) * DT\n",
    "    \n",
    "    for ctau, tau in enumerate(taus_xpl):\n",
    "\n",
    "        h = np.exp(-t/tau)\n",
    "        r = np.array([h[::-1]@cur for cur in curs])\n",
    "        r /= np.max(r)\n",
    "        \n",
    "        ax = axs[ctau, cn]\n",
    "        \n",
    "        ax.hist(r, R_BIN2, density=True)\n",
    "        ax.set_xlim(-.025, 1.025)\n",
    "        ax.set_title(fr'$\\tau = ${tau}, t = {step*n}')\n",
    "\n",
    "for ax in axs[-1, :]:\n",
    "    ax.set_xlabel(r'$r(t)$')\n",
    "    \n",
    "for ax in axs[:, 0]:\n",
    "    ax.set_ylabel(r'$P(r(t))$')\n",
    "\n",
    "set_font_size(axs, 10)\n",
    "fig.savefig('plots/p_r_tau_sweep_vary_n.pdf')"
   ]
  },
  {
   "cell_type": "markdown",
   "id": "thermal-lambda",
   "metadata": {},
   "source": [
    "Now vary the bit probability"
   ]
  },
  {
   "cell_type": "code",
   "execution_count": 28,
   "id": "armed-powell",
   "metadata": {},
   "outputs": [
    {
     "data": {
      "image/png": "[encoded data removed]",
      "text/plain": [
       "<Figure size 252x360 with 10 Axes>"
      ]
     },
     "metadata": {
      "needs_background": "light"
     },
     "output_type": "display_data"
    }
   ],
   "source": [
    "n_in = 200000\n",
    "n = 128\n",
    "qs = [.25, .75]\n",
    "\n",
    "taus_xpl = [.01, .05, .09, .2, 1]\n",
    "step = 1/16\n",
    "\n",
    "fig, axs = plt.subplots(5, 2, figsize=(3.5, 5), sharex=True, tight_layout=True)\n",
    "\n",
    "for cq, q in enumerate(qs):\n",
    "    ss = np.concatenate([np.random.rand(n_in, n) < q, np.ones((1, n), bool)])\n",
    "    curs = np.array([s2cur(s, step=step) for s in ss])\n",
    "    t = np.arange(len(curs[0])) * DT\n",
    "    \n",
    "    for ctau, tau in enumerate(taus_xpl):\n",
    "\n",
    "        h = np.exp(-t/tau)\n",
    "        r = np.array([h[::-1]@cur for cur in curs])\n",
    "        r /= np.max(r)\n",
    "        \n",
    "        ax = axs[ctau, cq]\n",
    "        \n",
    "        ax.hist(r, R_BIN2, density=True)\n",
    "        ax.set_xlim(-.025, 1.025)\n",
    "        ax.set_title(fr'$\\tau = ${tau}, q = {q}')\n",
    "\n",
    "for ax in axs[-1, :]:\n",
    "    ax.set_xlabel(r'$r(t)$')\n",
    "    \n",
    "for ax in axs[:, 0]:\n",
    "    ax.set_ylabel(r'$P(r(t))$')\n",
    "\n",
    "set_font_size(axs, 10)\n",
    "fig.savefig('plots/p_r_tau_sweep_vary_q.pdf')"
   ]
  },
  {
   "cell_type": "markdown",
   "id": "accepted-satin",
   "metadata": {},
   "source": [
    "Response entropy vs tau for different $q$."
   ]
  },
  {
   "cell_type": "code",
   "execution_count": 50,
   "id": "enabling-store",
   "metadata": {},
   "outputs": [
    {
     "name": "stdout",
     "output_type": "stream",
     "text": [
      "q=0.5.............................................................\n",
      "q=0.25.............................................................\n",
      "q=0.1.............................................................\n",
      "q=0.05.............................................................\n"
     ]
    }
   ],
   "source": [
    "n = 128\n",
    "step = 1/16\n",
    "\n",
    "n_in = 200000\n",
    "qs = np.array([.5, .25, .1, .05])\n",
    "taus = np.logspace(-2, 1, 61)\n",
    "\n",
    "ents_all = []\n",
    "\n",
    "for q in qs:\n",
    "    sys.stdout.write(f'q={q}')\n",
    "    ss = np.concatenate([np.random.rand(n_in, n) < q, np.ones((1, n), bool)])\n",
    "    curs = np.array([s2cur(s, step=step) for s in ss])\n",
    "    t = np.arange(len(curs[0])) * DT\n",
    "    \n",
    "    ents = []\n",
    "    for tau in taus:\n",
    "        sys.stdout.write('.')\n",
    "        h = np.exp(-t/tau)\n",
    "        r = np.array([h[::-1]@cur for cur in curs])\n",
    "        r /= np.max(r)\n",
    "        \n",
    "        cts, _ = np.histogram(r, R_BIN, density=True)\n",
    "        p = cts/np.sum(cts)\n",
    "        \n",
    "        ents.append(stats.entropy(p, base=2))\n",
    "    \n",
    "    ents_all.append(np.array(ents))\n",
    "    print('') "
   ]
  },
  {
   "cell_type": "code",
   "execution_count": 65,
   "id": "knowing-omaha",
   "metadata": {},
   "outputs": [
    {
     "data": {
      "image/png": "[encoded data removed]",
      "text/plain": [
       "<Figure size 252x216 with 4 Axes>"
      ]
     },
     "metadata": {
      "needs_background": "light"
     },
     "output_type": "display_data"
    }
   ],
   "source": [
    "fig, axs = plt.subplots(2, 2, figsize=(3.5, 3), tight_layout=True)\n",
    "for q, ents in zip(qs, ents_all):\n",
    "    axs[0, 0].semilogx(taus, ents, lw=2)\n",
    "    \n",
    "axs[0, 0].axhline(np.log2(len(R_BIN)-1), c='gray', ls='--')\n",
    "axs[0, 0].set_xlabel(r'$\\tau$')\n",
    "axs[0, 0].set_ylabel('Entropy (bits)')\n",
    "\n",
    "for q, ents in zip(qs, ents_all):\n",
    "    axs[1, 0].semilogx(taus, ents/np.max(ents), lw=2)\n",
    "    \n",
    "axs[1, 0].axhline(1, c='gray', ls='--')\n",
    "axs[1, 0].set_ylim(0, 1.1)\n",
    "axs[1, 0].set_yticks([0, 1])\n",
    "axs[1, 0].set_xlabel(r'$\\tau$')\n",
    "axs[1, 0].set_ylabel('Normalized\\nEntropy')\n",
    "\n",
    "tau_stars = np.array([taus[np.argmax(ents)] for ents in ents_all])\n",
    "axs[0, 1].scatter(qs, tau_stars, c='k', s=10)\n",
    "axs[0, 1].set_xlim(left=0)\n",
    "\n",
    "axs[0, 1].set_xlabel(r'$q$')\n",
    "axs[0, 1].set_ylabel(r'$\\tau^*$')\n",
    "\n",
    "max_ents = np.array([np.max(ents) for ents in ents_all])\n",
    "axs[1, 1].scatter(qs, max_ents, c='g', s=10)\n",
    "axs[1, 1].set_xlim(left=0)\n",
    "\n",
    "axs[1, 1].set_xlabel(r'$q$')\n",
    "axs[1, 1].set_ylabel(r'Max Ent. (bits)')\n",
    "\n",
    "set_font_size(axs, 10)\n",
    "fig.savefig('plots/ent_vs_tau_vs_q.pdf')"
   ]
  },
  {
   "cell_type": "code",
   "execution_count": 52,
   "id": "weekly-receiver",
   "metadata": {},
   "outputs": [
    {
     "name": "stdout",
     "output_type": "stream",
     "text": [
      "0.5 0.08912509381337459\n",
      "0.25 0.14125375446227548\n",
      "0.1 0.25118864315095807\n",
      "0.05 0.2818382931264455\n"
     ]
    }
   ],
   "source": [
    "for q, tau in zip(qs, tau_stars):\n",
    "    print(q, tau)"
   ]
  },
  {
   "cell_type": "code",
   "execution_count": 71,
   "id": "going-sphere",
   "metadata": {},
   "outputs": [
    {
     "data": {
      "image/png": "[encoded data removed]",
      "text/plain": [
       "<Figure size 252x180 with 4 Axes>"
      ]
     },
     "metadata": {
      "needs_background": "light"
     },
     "output_type": "display_data"
    }
   ],
   "source": [
    "fig, axs = plt.subplots(2, 2, figsize=(3.5, 2.5), tight_layout=True)\n",
    "\n",
    "for ax, q, tau in zip(axs.flatten(), qs, tau_stars):\n",
    "    ss = np.concatenate([np.random.rand(n_in, n) < q, np.ones((1, n), bool)])\n",
    "    curs = np.array([s2cur(s, step=step) for s in ss])\n",
    "    t = np.arange(len(curs[0])) * DT\n",
    "    \n",
    "    h = np.exp(-t/tau)\n",
    "    r = np.array([h[::-1]@cur for cur in curs])\n",
    "    r /= np.max(r)\n",
    "\n",
    "    ax.hist(r, R_BIN2, density=True)\n",
    "    ax.set_xlim(-.025, 1.025)\n",
    "    ax.set_title(fr'$q =$ {q}, $\\tau = ${tau:.2f}')\n",
    "    \n",
    "for ax in axs[:, 0]:\n",
    "    ax.set_ylabel('P(r)')\n",
    "\n",
    "for ax in axs[-1, :]:\n",
    "    ax.set_xlabel('r(t)')\n",
    "    \n",
    "set_font_size(axs, 10)\n",
    "fig.savefig('plots/p_r_q_tau_star.pdf')"
   ]
  }
 ],
 "metadata": {
  "kernelspec": {
   "display_name": "Python 3",
   "language": "python",
   "name": "python3"
  },
  "language_info": {
   "codemirror_mode": {
    "name": "ipython",
    "version": 3
   },
   "file_extension": ".py",
   "mimetype": "text/x-python",
   "name": "python",
   "nbconvert_exporter": "python",
   "pygments_lexer": "ipython3",
   "version": "3.6.13"
  }
 },
 "nbformat": 4,
 "nbformat_minor": 5
}
