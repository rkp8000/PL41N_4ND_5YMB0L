{
 "cells": [
  {
   "cell_type": "markdown",
   "id": "loved-shirt",
   "metadata": {},
   "source": [
    "What happens when we pass a long binary input string through multiple linear systems with different $\\tau$'s?"
   ]
  },
  {
   "cell_type": "code",
   "execution_count": 1,
   "id": "municipal-opera",
   "metadata": {},
   "outputs": [],
   "source": [
    "%matplotlib inline\n",
    "from itertools import product as cprod\n",
    "import matplotlib.pyplot as plt\n",
    "import numpy as np\n",
    "from scipy import stats\n",
    "import sys\n",
    "\n",
    "from disp import set_font_size\n",
    "\n",
    "DT = .005\n",
    "\n",
    "R_BIN = np.linspace(0, 1, 17)\n",
    "\n",
    "np.random.seed(10)"
   ]
  },
  {
   "cell_type": "markdown",
   "id": "protective-kinase",
   "metadata": {},
   "source": [
    "We start with a binary input stream containing $n$ segments of length $\\Delta T$ with $n \\Delta T = T$. There are $2^n$ possible input \"strings\", as each time window can be either $\\{0, 1\\}$."
   ]
  },
  {
   "cell_type": "code",
   "execution_count": 2,
   "id": "norman-grounds",
   "metadata": {},
   "outputs": [],
   "source": [
    "def s2cur(s, step):\n",
    "    n = len(s)\n",
    "    \n",
    "    t = np.arange(0, n*step, DT)\n",
    "    cur = np.zeros(len(t))\n",
    "    \n",
    "    istep = int(round(step/DT))\n",
    "    \n",
    "    for istart in s.nonzero()[0]*istep:\n",
    "        cur[istart:istart+istep] = 1\n",
    "        \n",
    "    return cur"
   ]
  },
  {
   "cell_type": "code",
   "execution_count": 3,
   "id": "historical-ordinance",
   "metadata": {},
   "outputs": [],
   "source": [
    "n = 1024\n",
    "step = 1/16\n",
    "q = .5\n",
    "\n",
    "n_in = 50000\n",
    "tau_1 = .087\n",
    "taus = [.001, .05, .07, tau_1, .2, 1, 2, 4]\n",
    "\n",
    "ss = np.concatenate([np.random.binomial(1, q, (n_in, n)), np.ones((1, n), bool)])\n",
    "curs = np.array([s2cur(s, step=step) for s in ss])\n",
    "t = np.arange(len(curs[0])) * DT"
   ]
  },
  {
   "cell_type": "code",
   "execution_count": 4,
   "id": "documentary-opinion",
   "metadata": {},
   "outputs": [
    {
     "name": "stdout",
     "output_type": "stream",
     "text": [
      "........"
     ]
    }
   ],
   "source": [
    "h_1 = np.exp(-t/tau_1)\n",
    "r_1 = np.array([h_1[::-1]@cur for cur in curs])\n",
    "r_1 /= np.max(r_1)\n",
    "\n",
    "rs = []\n",
    "\n",
    "for tau in taus:\n",
    "    sys.stdout.write('.')\n",
    "    h = np.exp(-t/tau)\n",
    "    r = np.array([h[::-1]@cur for cur in curs])\n",
    "    r /= np.max(r)\n",
    "    rs.append(r)"
   ]
  },
  {
   "cell_type": "code",
   "execution_count": 5,
   "id": "smooth-nightlife",
   "metadata": {},
   "outputs": [
    {
     "data": {
      "image/png": "[encoded data removed]",
      "text/plain": [
       "<Figure size 252x504 with 8 Axes>"
      ]
     },
     "metadata": {
      "needs_background": "light"
     },
     "output_type": "display_data"
    }
   ],
   "source": [
    "fig, axs = plt.subplots(4, 2, figsize=(3.5, 7), sharex=True, sharey=True, tight_layout=True)\n",
    "\n",
    "for cax, (ax, tau_2) in enumerate(zip(axs.flatten(), taus)):\n",
    "    r_2 = rs[cax]\n",
    "    \n",
    "    cts = np.histogram2d(r_1, r_2, bins=[R_BIN, R_BIN])[0]\n",
    "    p = cts / cts.sum()\n",
    "    ent = stats.entropy(p.flatten(), base=2)\n",
    "    \n",
    "    ax.hist2d(r_1, r_2, bins=[R_BIN, R_BIN])\n",
    "    title = fr'$\\tau_2$ = {tau_2}' + '\\n' + fr'Ent. = {ent:.3f} bits'\n",
    "    ax.set_title(title)\n",
    "    \n",
    "for ax in axs[-1, :]:\n",
    "    ax.set_xlabel(r'$r_2$')\n",
    "    \n",
    "for ax in axs[:, 0]:\n",
    "    ax.set_ylabel(r'$r_1$')\n",
    "\n",
    "set_font_size(axs, 10)\n",
    "fig.savefig('plots/p_r_1_r_2_tau_2_sweep.pdf')"
   ]
  },
  {
   "cell_type": "code",
   "execution_count": 6,
   "id": "optional-subcommittee",
   "metadata": {},
   "outputs": [
    {
     "name": "stdout",
     "output_type": "stream",
     "text": [
      ".........................................................................................................................\n",
      "............................................................."
     ]
    }
   ],
   "source": [
    "n_bins = [17, 33, 65, 129, 257]\n",
    "\n",
    "taus_2 = np.logspace(-3, .6021, 121)\n",
    "ents_all = np.nan * np.zeros((len(n_bins), len(taus_2)))\n",
    "\n",
    "for ctau, tau_2 in enumerate(taus_2):\n",
    "    sys.stdout.write('.')\n",
    "    h_2 = np.exp(-t/tau_2)\n",
    "    r_2 = np.array([h_2[::-1]@cur for cur in curs])\n",
    "    r_2 /= np.max(r_2)\n",
    " \n",
    "    for cn_bin, n_bin in enumerate(n_bins):\n",
    "        r_bin = np.linspace(0, 1, n_bin+1)\n",
    "        cts = np.histogram2d(r_1, r_2, bins=[r_bin, r_bin])[0]\n",
    "        p = cts / cts.sum()\n",
    "\n",
    "        ents_all[cn_bin, ctau] = stats.entropy(p.flatten(), base=2)\n",
    "        \n",
    "print('')\n",
    "\n",
    "taus_2_zoom = np.linspace(.07, .1, 61)\n",
    "ents_all_zoom = np.nan * np.zeros((len(n_bins), len(taus_2_zoom)))\n",
    "\n",
    "for ctau, tau_2 in enumerate(taus_2_zoom):\n",
    "    sys.stdout.write('.')\n",
    "    h_2 = np.exp(-t/tau_2)\n",
    "    r_2 = np.array([h_2[::-1]@cur for cur in curs])\n",
    "    r_2 /= np.max(r_2)\n",
    " \n",
    "    for cn_bin, n_bin in enumerate(n_bins):\n",
    "        r_bin = np.linspace(0, 1, n_bin+1)\n",
    "        cts = np.histogram2d(r_1, r_2, bins=[r_bin, r_bin])[0]\n",
    "        p = cts / cts.sum()\n",
    "\n",
    "        ents_all_zoom[cn_bin, ctau] = stats.entropy(p.flatten(), base=2)"
   ]
  },
  {
   "cell_type": "code",
   "execution_count": 7,
   "id": "statewide-democrat",
   "metadata": {},
   "outputs": [
    {
     "data": {
      "image/png": "[encoded data removed]",
      "text/plain": [
       "<Figure size 252x216 with 4 Axes>"
      ]
     },
     "metadata": {
      "needs_background": "light"
     },
     "output_type": "display_data"
    }
   ],
   "source": [
    "fig, axs = plt.subplots(2, 2, figsize=(3.5, 3), tight_layout=True)\n",
    "axs[0, 0].axvline(tau_1, ls='--', color='gray')\n",
    "\n",
    "tau_2_stars = []\n",
    "ents_max = []\n",
    "\n",
    "for n_bin, ents in zip(n_bins, ents_all):\n",
    "    tau_2_stars.append(taus_2[np.nanargmax(ents)])\n",
    "    ents_max.append(np.nanmax(ents))\n",
    "\n",
    "    axs[0, 0].semilogx(taus_2, ents, lw=2)\n",
    "    axs[0, 0].axhline(np.log2(n_bin), ls='--', color='gray')\n",
    "    \n",
    "axs[0, 0].set_xticks([.01, 1])\n",
    "axs[0, 0].set_xlabel(r'$\\tau_2$')\n",
    "axs[0, 0].set_ylabel('Ent. (bits)')\n",
    "axs[0, 0].set_title('Zoom out')\n",
    "\n",
    "axs[0, 1].axvline(tau_1, ls='--', color='gray')\n",
    "\n",
    "for n_bin, ents in zip(n_bins, ents_all_zoom):\n",
    "\n",
    "    axs[0, 1].plot(taus_2_zoom, ents, lw=2)\n",
    "    axs[0, 1].axhline(np.log2(n_bin), ls='--', color='gray')\n",
    "\n",
    "axs[0, 1].set_xlim(.07, .1)\n",
    "axs[0, 1].set_xlabel(r'$\\tau_2$')\n",
    "axs[0, 1].set_title('Zoom in')\n",
    "\n",
    "axs[1, 0].scatter(n_bins, tau_2_stars, s=10)\n",
    "axs[1, 0].set_xscale('log')\n",
    "\n",
    "axs[1, 0].set_xlabel(r'$1/\\Delta r$')\n",
    "axs[1, 0].set_ylabel(r'$\\tau_2^*$')\n",
    "\n",
    "axs[1, 1].scatter(n_bins, np.array(ents_max)/np.log2(n_bins), s=10)\n",
    "axs[1, 1].set_xscale('log')\n",
    "\n",
    "axs[1, 1].set_xlabel(r'$1/\\Delta r$')\n",
    "axs[1, 1].set_ylabel('Ent. Gain')\n",
    "\n",
    "fig.savefig('plots/ent_tau_2_delta_r.pdf')"
   ]
  },
  {
   "cell_type": "code",
   "execution_count": 8,
   "id": "pending-teach",
   "metadata": {},
   "outputs": [
    {
     "data": {
      "text/plain": [
       "[6.484342572197705,\n",
       " 8.243137878973036,\n",
       " 10.059023077721465,\n",
       " 11.876571861710731,\n",
       " 13.557834802990971]"
      ]
     },
     "execution_count": 8,
     "metadata": {},
     "output_type": "execute_result"
    }
   ],
   "source": [
    "ents_max"
   ]
  },
  {
   "cell_type": "code",
   "execution_count": 9,
   "id": "configured-notion",
   "metadata": {},
   "outputs": [
    {
     "data": {
      "text/plain": [
       "[0.5390046352718897,\n",
       " 0.6632007367493543,\n",
       " 0.7615176962806192,\n",
       " 0.8744097670803829,\n",
       " 1.0040376533598205]"
      ]
     },
     "execution_count": 9,
     "metadata": {},
     "output_type": "execute_result"
    }
   ],
   "source": [
    "tau_2_stars"
   ]
  },
  {
   "cell_type": "markdown",
   "id": "bibliographic-voice",
   "metadata": {},
   "source": [
    "What is the timescale of third best neural variable to add?"
   ]
  },
  {
   "cell_type": "code",
   "execution_count": 10,
   "id": "pursuant-remedy",
   "metadata": {},
   "outputs": [
    {
     "name": "stdout",
     "output_type": "stream",
     "text": [
      "....................................................................................................................................................................................."
     ]
    }
   ],
   "source": [
    "n_bin = n_bins[0]\n",
    "r_bin = np.linspace(0, 1, n_bin+1)\n",
    "\n",
    "tau_1 = .087\n",
    "h_1 = np.exp(-t/tau_1)\n",
    "r_1 = np.array([h_1[::-1]@cur for cur in curs])\n",
    "r_1 /= np.max(r_1)\n",
    "\n",
    "tau_2 = .5776\n",
    "h_2 = np.exp(-t/tau_2)\n",
    "r_2 = np.array([h_2[::-1]@cur for cur in curs])\n",
    "r_2 /= np.max(r_2)\n",
    "\n",
    "taus = np.logspace(-3, .9, 181)\n",
    "ents_3 = np.nan * np.zeros(len(taus))\n",
    "\n",
    "for ctau_3, tau_3 in enumerate(taus):\n",
    "    sys.stdout.write('.')\n",
    "    h_3 = np.exp(-t/tau_3)\n",
    "    r_3 = np.array([h_3[::-1]@cur for cur in curs])\n",
    "    r_3 /= np.max(r_3)\n",
    "    \n",
    "    cts = np.histogramdd(np.array([r_1, r_2, r_3]).T, bins=3*[r_bin])[0]\n",
    "    \n",
    "    p = cts / cts.sum()\n",
    "    \n",
    "    ents_3[ctau_3] = stats.entropy(p.flatten(), base=2)"
   ]
  },
  {
   "cell_type": "code",
   "execution_count": 11,
   "id": "assumed-break",
   "metadata": {},
   "outputs": [
    {
     "name": "stdout",
     "output_type": "stream",
     "text": [
      "Best tau_3 = 2.6505337179010797\n",
      "Ent = 7.8205881540163675\n"
     ]
    }
   ],
   "source": [
    "print('Best tau_3 =', taus[np.nanargmax(ents_3)])\n",
    "print('Ent =', np.nanmax(ents_3))"
   ]
  },
  {
   "cell_type": "code",
   "execution_count": 12,
   "id": "republican-north",
   "metadata": {},
   "outputs": [
    {
     "name": "stdout",
     "output_type": "stream",
     "text": [
      "....................................................................................................................................................................................."
     ]
    }
   ],
   "source": [
    "tau_1 = .087\n",
    "h_1 = np.exp(-t/tau_1)\n",
    "r_1 = np.array([h_1[::-1]@cur for cur in curs])\n",
    "r_1 /= np.max(r_1)\n",
    "\n",
    "tau_2 = .5776\n",
    "h_2 = np.exp(-t/tau_2)\n",
    "r_2 = np.array([h_2[::-1]@cur for cur in curs])\n",
    "r_2 /= np.max(r_2)\n",
    "\n",
    "tau_3 = 2.522\n",
    "h_3 = np.exp(-t/tau_3)\n",
    "r_3 = np.array([h_3[::-1]@cur for cur in curs])\n",
    "r_3 /= np.max(r_3)\n",
    "\n",
    "taus_4 = np.logspace(-3, 1.2, 181)\n",
    "\n",
    "ents_4 = np.nan * np.zeros(len(taus_4))\n",
    "\n",
    "for ctau_4, tau_4 in enumerate(taus_4):\n",
    "    sys.stdout.write('.')\n",
    "    h_4 = np.exp(-t/tau_4)\n",
    "    r_4 = np.array([h_4[::-1]@cur for cur in curs])\n",
    "    r_4 /= np.max(r_4)\n",
    "    \n",
    "    cts = np.histogramdd(np.array([r_1, r_2, r_3, r_4]).T, bins=4*[r_bin])[0]\n",
    "    \n",
    "    p = cts / cts.sum()\n",
    "    \n",
    "    ents_4[ctau_4] = stats.entropy(p.flatten(), base=2)"
   ]
  },
  {
   "cell_type": "code",
   "execution_count": 13,
   "id": "familiar-girlfriend",
   "metadata": {},
   "outputs": [
    {
     "data": {
      "image/png": "[encoded data removed]",
      "text/plain": [
       "<Figure size 252x126 with 2 Axes>"
      ]
     },
     "metadata": {
      "needs_background": "light"
     },
     "output_type": "display_data"
    }
   ],
   "source": [
    "fig, axs = plt.subplots(1, 2, figsize=(3.5, 1.75), tight_layout=True, sharex=True)\n",
    "\n",
    "axs[0].semilogx(taus, ents_3)\n",
    "axs[0].axhline(ents_max[0], color='gray', ls='--')\n",
    "axs[0].axvline(tau_1, color='r', ls='--')\n",
    "axs[0].axvline(tau_2, color='r', ls='--')\n",
    "axs[0].set_xlabel(r'$\\tau_3$')\n",
    "axs[0].set_ylabel('Entropy (bits)')\n",
    "\n",
    "axs[1].semilogx(taus_4, ents_4)\n",
    "axs[1].axhline(np.nanmax(ents_3), color='gray', ls='--')\n",
    "axs[1].axvline(tau_1, color='r', ls='--')\n",
    "axs[1].axvline(tau_2, color='r', ls='--')\n",
    "axs[1].axvline(tau_3, color='r', ls='--')\n",
    "axs[1].set_xlabel(r'$\\tau_4$')\n",
    "\n",
    "set_font_size(axs, 10)\n",
    "fig.savefig('plots/ent_vs_tau_3_tau_4.pdf')"
   ]
  },
  {
   "cell_type": "code",
   "execution_count": 14,
   "id": "documentary-topic",
   "metadata": {},
   "outputs": [
    {
     "name": "stdout",
     "output_type": "stream",
     "text": [
      "Best tau_4 = 0.22733518989206314\n",
      "Ent = 8.873417729870551\n"
     ]
    }
   ],
   "source": [
    "print('Best tau_4 =', taus_4[np.nanargmax(ents_4)])\n",
    "print('Ent =', np.nanmax(ents_4))"
   ]
  }
 ],
 "metadata": {
  "kernelspec": {
   "display_name": "Python 3",
   "language": "python",
   "name": "python3"
  },
  "language_info": {
   "codemirror_mode": {
    "name": "ipython",
    "version": 3
   },
   "file_extension": ".py",
   "mimetype": "text/x-python",
   "name": "python",
   "nbconvert_exporter": "python",
   "pygments_lexer": "ipython3",
   "version": "3.6.13"
  }
 },
 "nbformat": 4,
 "nbformat_minor": 5
}
