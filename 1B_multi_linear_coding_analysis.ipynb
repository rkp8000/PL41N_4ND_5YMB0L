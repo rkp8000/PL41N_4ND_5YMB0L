{
 "cells": [
  {
   "cell_type": "markdown",
   "id": "lined-opening",
   "metadata": {},
   "source": [
    "What happens when we pass a long binary input string through multiple linear systems with different $\\tau$'s?"
   ]
  },
  {
   "cell_type": "code",
   "execution_count": 1,
   "id": "behind-stuff",
   "metadata": {},
   "outputs": [],
   "source": [
    "%matplotlib inline\n",
    "from itertools import product as cprod\n",
    "import matplotlib.pyplot as plt\n",
    "import numpy as np\n",
    "from scipy import stats\n",
    "import sys\n",
    "\n",
    "from disp import set_font_size\n",
    "\n",
    "DT = .005\n",
    "\n",
    "R_BIN = np.linspace(0, 1, 17)\n",
    "R_BIN2 = np.linspace(0, 1, 33)"
   ]
  },
  {
   "cell_type": "markdown",
   "id": "american-madison",
   "metadata": {},
   "source": [
    "We start with a binary input stream containing $n$ segments of length $\\Delta T$ with $n \\Delta T = T$. There are $2^n$ possible input \"strings\", as each time window can be either $\\{0, 1\\}$."
   ]
  },
  {
   "cell_type": "code",
   "execution_count": 2,
   "id": "grateful-adelaide",
   "metadata": {},
   "outputs": [],
   "source": [
    "def s2cur(s, step):\n",
    "    n = len(s)\n",
    "    \n",
    "    t = np.arange(0, n*step, DT)\n",
    "    cur = np.zeros(len(t))\n",
    "    \n",
    "    istep = int(round(step/DT))\n",
    "    \n",
    "    for istart in s.nonzero()[0]*istep:\n",
    "        cur[istart:istart+istep] = 1\n",
    "        \n",
    "    return cur"
   ]
  },
  {
   "cell_type": "code",
   "execution_count": 3,
   "id": "tender-interim",
   "metadata": {},
   "outputs": [
    {
     "name": "stdout",
     "output_type": "stream",
     "text": [
      "........"
     ]
    }
   ],
   "source": [
    "n = 256\n",
    "step = 1/16\n",
    "q = .5\n",
    "\n",
    "n_in = 100000\n",
    "tau_1 = .087\n",
    "taus = [.001, .05, .07, tau_1, .2, 1, 2, 4]\n",
    "\n",
    "ss = np.concatenate([np.random.rand(n_in, n) < q, np.ones((1, n), bool)])\n",
    "curs = np.array([s2cur(s, step=step) for s in ss])\n",
    "t = np.arange(len(curs[0])) * DT\n",
    "\n",
    "h_1 = np.exp(-t/tau_1)\n",
    "r_1 = np.array([h_1[::-1]@cur for cur in curs])\n",
    "r_1 /= np.max(r_1)\n",
    "\n",
    "rs = []\n",
    "\n",
    "for tau in taus:\n",
    "    sys.stdout.write('.')\n",
    "    h = np.exp(-t/tau)\n",
    "    r = np.array([h[::-1]@cur for cur in curs])\n",
    "    r /= np.max(r)\n",
    "    rs.append(r)"
   ]
  },
  {
   "cell_type": "code",
   "execution_count": 4,
   "id": "stylish-dealing",
   "metadata": {},
   "outputs": [
    {
     "data": {
      "image/png": "[encoded data removed]",
      "text/plain": [
       "<Figure size 252x504 with 8 Axes>"
      ]
     },
     "metadata": {
      "needs_background": "light"
     },
     "output_type": "display_data"
    }
   ],
   "source": [
    "fig, axs = plt.subplots(4, 2, figsize=(3.5, 7), sharex=True, sharey=True, tight_layout=True)\n",
    "\n",
    "for cax, (ax, tau_2) in enumerate(zip(axs.flatten(), taus)):\n",
    "    r_2 = rs[cax]\n",
    "    \n",
    "    cts = np.histogram2d(r_1, r_2, bins=[R_BIN2, R_BIN2])[0]\n",
    "    p = cts / cts.sum()\n",
    "    ent = stats.entropy(p.flatten(), base=2)\n",
    "    \n",
    "    ax.hist2d(r_1, r_2, bins=[R_BIN2, R_BIN2])\n",
    "    title = fr'$\\tau_2$ = {tau_2}' + '\\n' + fr'Ent. = {ent:.3f} bits'\n",
    "    ax.set_title(title)\n",
    "    \n",
    "for ax in axs[-1, :]:\n",
    "    ax.set_xlabel(r'$r_2$')\n",
    "    \n",
    "for ax in axs[:, 0]:\n",
    "    ax.set_ylabel(r'$r_1$')\n",
    "\n",
    "set_font_size(axs, 10)\n",
    "fig.savefig('plots/p_r_1_r_2_tau_2_sweep.pdf')"
   ]
  },
  {
   "cell_type": "code",
   "execution_count": 29,
   "id": "automotive-determination",
   "metadata": {},
   "outputs": [
    {
     "name": "stdout",
     "output_type": "stream",
     "text": [
      ".........................................................................................................................\n",
      "............................................................."
     ]
    }
   ],
   "source": [
    "n_bins = [16, 32, 64, 128, 256]\n",
    "\n",
    "taus_2 = np.logspace(-3, .6021, 121)\n",
    "ents_all = np.nan * np.zeros((len(n_bins), len(taus_2)))\n",
    "\n",
    "for ctau, tau_2 in enumerate(taus_2):\n",
    "    sys.stdout.write('.')\n",
    "    h_2 = np.exp(-t/tau_2)\n",
    "    r_2 = np.array([h_2[::-1]@cur for cur in curs])\n",
    "    r_2 /= np.max(r_2)\n",
    " \n",
    "    for cn_bin, n_bin in enumerate(n_bins):\n",
    "        r_bin = np.linspace(0, 1, n_bin+1)\n",
    "        cts = np.histogram2d(r_1, r_2, bins=[r_bin, r_bin])[0]\n",
    "        p = cts / cts.sum()\n",
    "\n",
    "        ents_all[cn_bin, ctau] = stats.entropy(p.flatten(), base=2)\n",
    "        \n",
    "print('')\n",
    "\n",
    "taus_2_zoom = np.linspace(.07, .1, 61)\n",
    "ents_all_zoom = np.nan * np.zeros((len(n_bins), len(taus_2_zoom)))\n",
    "\n",
    "for ctau, tau_2 in enumerate(taus_2_zoom):\n",
    "    sys.stdout.write('.')\n",
    "    h_2 = np.exp(-t/tau_2)\n",
    "    r_2 = np.array([h_2[::-1]@cur for cur in curs])\n",
    "    r_2 /= np.max(r_2)\n",
    " \n",
    "    for cn_bin, n_bin in enumerate(n_bins):\n",
    "        r_bin = np.linspace(0, 1, n_bin+1)\n",
    "        cts = np.histogram2d(r_1, r_2, bins=[r_bin, r_bin])[0]\n",
    "        p = cts / cts.sum()\n",
    "\n",
    "        ents_all_zoom[cn_bin, ctau] = stats.entropy(p.flatten(), base=2)"
   ]
  },
  {
   "cell_type": "code",
   "execution_count": 58,
   "id": "union-science",
   "metadata": {},
   "outputs": [
    {
     "data": {
      "image/png": "[encoded data removed]",
      "text/plain": [
       "<Figure size 252x216 with 4 Axes>"
      ]
     },
     "metadata": {
      "needs_background": "light"
     },
     "output_type": "display_data"
    }
   ],
   "source": [
    "fig, axs = plt.subplots(2, 2, figsize=(3.5, 3), tight_layout=True)\n",
    "axs[0, 0].axvline(tau_1, ls='--', color='gray')\n",
    "\n",
    "tau_2_stars = []\n",
    "ents_max = []\n",
    "\n",
    "for n_bin, ents in zip(n_bins, ents_all):\n",
    "    tau_2_stars.append(taus_2[np.argmax(ents)])\n",
    "    ents_max.append(np.max(ents))\n",
    "\n",
    "    axs[0, 0].semilogx(taus_2, ents, lw=2)\n",
    "    axs[0, 0].axhline(np.log2(n_bin), ls='--', color='gray')\n",
    "    \n",
    "axs[0, 0].set_xlabel(r'$\\tau_2$')\n",
    "axs[0, 0].set_ylabel('Ent. (bits)')\n",
    "\n",
    "axs[0, 1].axvline(tau_1, ls='--', color='gray')\n",
    "\n",
    "for n_bin, ents in zip(n_bins, ents_all_zoom):\n",
    "\n",
    "    axs[0, 1].plot(taus_2_zoom, ents, lw=2)\n",
    "    axs[0, 1].axhline(np.log2(n_bin), ls='--', color='gray')\n",
    "\n",
    "axs[0, 1].set_xlim(.07, .1)\n",
    "axs[0, 1].set_xlabel(r'$\\tau_2$')\n",
    "axs[0, 1].set_title('Zoomed')\n",
    "\n",
    "axs[1, 0].scatter(n_bins, tau_2_stars, s=10)\n",
    "axs[1, 0].set_xscale('log')\n",
    "\n",
    "axs[1, 0].set_xlabel(r'$1/\\Delta r$')\n",
    "axs[1, 0].set_ylabel(r'$\\tau_2^*$')\n",
    "\n",
    "axs[1, 1].scatter(n_bins, np.array(ents_max)/np.log2(n_bins), s=10)\n",
    "axs[1, 1].set_xscale('log')\n",
    "\n",
    "axs[1, 1].set_xlabel(r'$1/\\Delta r$')\n",
    "axs[1, 1].set_ylabel('Ent. Gain')\n",
    "\n",
    "fig.savefig('plots/ent_tau_2_delta_r.pdf')"
   ]
  }
 ],
 "metadata": {
  "kernelspec": {
   "display_name": "Python 3",
   "language": "python",
   "name": "python3"
  },
  "language_info": {
   "codemirror_mode": {
    "name": "ipython",
    "version": 3
   },
   "file_extension": ".py",
   "mimetype": "text/x-python",
   "name": "python",
   "nbconvert_exporter": "python",
   "pygments_lexer": "ipython3",
   "version": "3.6.13"
  }
 },
 "nbformat": 4,
 "nbformat_minor": 5
}
